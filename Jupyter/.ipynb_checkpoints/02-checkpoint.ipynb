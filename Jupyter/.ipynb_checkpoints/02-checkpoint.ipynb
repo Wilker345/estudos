{
 "cells": [
  {
   "cell_type": "code",
   "execution_count": 6,
   "id": "2feae590",
   "metadata": {},
   "outputs": [],
   "source": [
    "import pandas as pd\n",
    "import numpy as np\n",
    "import seaborn as sns\n",
    "import matplotlib.pyplot as plt\n",
    "import plotly.express as px"
   ]
  },
  {
   "cell_type": "code",
   "execution_count": 9,
   "id": "37c18811",
   "metadata": {
    "scrolled": false
   },
   "outputs": [],
   "source": [
    "base_credit = pd.read_csv('C:/Users/cwilk/Documents/GitHub/estudos/Jupyter/CódigosFeitosCurso/credit_data.csv')"
   ]
  },
  {
   "cell_type": "code",
   "execution_count": null,
   "id": "16c7a74e",
   "metadata": {},
   "outputs": [],
   "source": []
  }
 ],
 "metadata": {
  "kernelspec": {
   "display_name": "Python 3",
   "language": "python",
   "name": "python3"
  },
  "language_info": {
   "codemirror_mode": {
    "name": "ipython",
    "version": 3
   },
   "file_extension": ".py",
   "mimetype": "text/x-python",
   "name": "python",
   "nbconvert_exporter": "python",
   "pygments_lexer": "ipython3",
   "version": "3.8.8"
  }
 },
 "nbformat": 4,
 "nbformat_minor": 5
}
